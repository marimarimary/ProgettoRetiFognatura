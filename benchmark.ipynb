{
 "cells": [
  {
   "cell_type": "code",
   "execution_count": null,
   "metadata": {},
   "outputs": [],
   "source": [
    "import os, shutil            #Operating System\n",
    "#from pyswmm import Simulation, raingages, Nodes, SystemStats, Links\n",
    "import pandas as pd\n",
    "from swmmio.utils.modify_model import replace_inp_section\n",
    "from swmmio import create_dataframeINP\n",
    "import swmmio\n",
    "from swmmio.graphics import swmm_graphics as sg\n",
    "import math\n",
    "import numpy as np\n",
    "import datetime as DT\n",
    "from functions import *"
   ]
  },
  {
   "cell_type": "code",
   "execution_count": null,
   "metadata": {},
   "outputs": [],
   "source": [
    "InpFile = ! zenity --file-selection  --separator=, --file-filter=*.inp\n"
   ]
  },
  {
   "cell_type": "code",
   "execution_count": null,
   "metadata": {},
   "outputs": [],
   "source": [
    "baseline = swmmio.Model(InpFile[0])\n",
    "baseline.inp.path\n",
    "\n",
    "# Creo nuova cartella di lavoro\n",
    "workdir = baseline.inp.dir + '/' + baseline.inp.name\n",
    "try: \n",
    "    os.mkdir(workdir)\n",
    "except FileExistsError:\n",
    "    pass\n",
    "os.chdir(workdir)"
   ]
  },
  {
   "cell_type": "code",
   "execution_count": null,
   "metadata": {},
   "outputs": [],
   "source": [
    "os.getcwd()"
   ]
  },
  {
   "cell_type": "code",
   "execution_count": null,
   "metadata": {},
   "outputs": [],
   "source": [
    "# Richiama il solutore SWMM5\n",
    "def swmm5solver (inpfile):\n",
    " #   if os.path.isfile(inpfile[:-4] + '.rpt'):\n",
    " #       print('Analisi non eseguita: ' + inpfile[:-4] + '.rpt' + ' esiste già')\n",
    " #       return\n",
    "    print('Eeguo l\\'analisi di ' + inpfile)\n",
    "    inpfile = inpfile[:-4] # Nome file senza estensione\n",
    "    \n",
    "    if os.sys.platform == 'linux':\n",
    "        swmmexepath = 'swmm51' ## Per windows bisogna inserire il percorso di swmm5.exe\n",
    "        ! {swmmexepath} \"{inpfile}.inp\" \"{inpfile}.rpt\" \"{inpfile}.out\" > /dev/null \n",
    "#        ! {swmmexepath} \"{inpfile}.inp\" \"{inpfile}.rpt\"  > /dev/null 2> /dev/null #\n",
    "        ! rm \"{inpfile}.out\" # i file out occupano molto  sppazio\n",
    "        print('Creato file di report ' + inpfile + '.rpt')\n",
    "    elif os.sys.platform == 'windows':\n",
    "        #  bisogna aggiungere il percorso di swmm5.exe alla PATH di windows:\n",
    "        #  https://www.wikihow.com/Run-a-Program-on-Command-Prompt [Metodo2]\n",
    "        swmmexepath = 'C:\\Program Files (x86)\\EPA SWMM 5.1.013\\swmm5.exe'\n",
    "        ! {swmmexepath} \"{inpfile}.inp\" \"{inpfile}.rpt\" \"{inpfile}.out\"\n",
    "        ! del \"{inpfile}.out\" # i file out occupano molto  sppazio\n",
    "        print('Creato file di report ' + inpfile + '.rpt')\n",
    "    else: \n",
    "        print('swmm5solver: Sistema operativo non supportato')\n"
   ]
  },
  {
   "cell_type": "code",
   "execution_count": null,
   "metadata": {
    "slideshow": {
     "slide_type": "slide"
    }
   },
   "outputs": [],
   "source": [
    "inp2read = baseline.inp.path\n",
    "\n",
    "# Definizione dei diametri commericiali\n",
    "# https://www.oppo.it/tabelle/diametri_interni_tubi.htm#fibrocemento\n",
    "DiametriCommericali = [.060,.080,.100,.125,\n",
    "                       .150,.170,.200,.225,\n",
    "                       .250,.300,.350,.400,\n",
    "                       .450,.500,.600,.700,\n",
    "                       .800,.900,1.00,1.10,1.20]\n",
    "\n",
    "try: \n",
    "    os.mkdir('swmm' )\n",
    "except FileExistsError:\n",
    "    pass\n",
    "\n",
    "for iteration in range(1,10): # 6 iterazioni\n",
    "    \n",
    "    print('\\nIterazione N: ' + str(iteration) + '\\n')\n",
    "    \n",
    "    try: \n",
    "        os.mkdir('./swmm/iter' + str(iteration) )\n",
    "    except FileExistsError:\n",
    "        pass\n",
    "    \n",
    "    try: \n",
    "        os.mkdir('./swmm/iter' + str(iteration + 1) )\n",
    "    except FileExistsError:\n",
    "        pass\n",
    "\n",
    "    inp2verify = os.path.join('./swmm/iter' + str(iteration) + '/'+ \\\n",
    "                                   baseline.inp.name + '.inp')\n",
    "    \n",
    "    newfilebase = inp2verify[:-4] # Nome file senza estensione\n",
    "    print(newfilebase)\n",
    "    # Creo nuovo inp \n",
    "    try:\n",
    "        shutil.copyfile(inp2read, inp2verify)\n",
    "    except:\n",
    "        pass\n",
    "    \n",
    "    # Plot dei diametri delle condotte\n",
    "    plotGeomNetwork(inp2verify)\n",
    "\n",
    "    # ESEGUO L'ANALISI Con SWMM5\n",
    "    swmm5solver(inp2verify)\n",
    "        \n",
    "    mymodel = swmmio.Model(inp2verify)\n",
    "    #print(mymodel.rpt_is_valid())\n",
    "    nodes = mymodel.nodes()\n",
    "    conds = mymodel.conduits()\n",
    "    results = swmmio.create_dataframeRPT(inp2verify[:-4] + '.rpt')\n",
    "    \n",
    "  #  print(mymodel.conduits())\n",
    "\n",
    "    # Plotto il riempimento delle Condotte e dei Nodi\n",
    "    print('plot del grafico ', newfilebase + '_riempimento.png')\n",
    " #   plotModel(inpfilepath = inp2verify, \n",
    " #             title = str(iteration), \n",
    " #             annotation = 'Percentuale di riempimento\\nnei nodi e nelle condotte',\n",
    " #             outfile = newfilebase + '_riempimento.png',\n",
    " #             Property_nodes = '',\n",
    " #             Property_conds = 'MaxDPerc',\n",
    " #             legend = False,\n",
    " #            )\n",
    "        \n",
    "    # inserisco i risultati delle analisi nei dataframe risultati\n",
    "    \n",
    "    df = pd.DataFrame()\n",
    "\n",
    "    df['InElevation'] = list(nodes.InvertElev[conds.InletNode] )\n",
    "    for link in df.index[df.InElevation.isnull()]: # fix Problema con i Dividers\n",
    "        InNode = conds.InletNode[link]\n",
    "        InElev = float(dividers.Elevation[InNode])\n",
    "        # print(link, InNode, InElev)\n",
    "        df.loc[link,'InElevation'] = InElev\n",
    "\n",
    "    df['OutElevation'] = list(nodes.InvertElev[conds.OutletNode])\n",
    "    for link in df.index[df.OutElevation.isnull()]: # fix Problema con i Dividers\n",
    "        OutNode = conds.OutletNode[link]\n",
    "        OutElev = float(dividers.Elevation[OutNode])\n",
    "        # print(link, InNode, InElev)\n",
    "        df.loc[link,'OutElevation'] = OutElev\n",
    "    df.index = conds.index\n",
    "\n",
    "    df['Length'] = conds.Length\n",
    "    df['Pendenza'] = ( df.InElevation - df.OutElevation ) / df.Length\n",
    "\n",
    "    b = 10 ** (-9/8) \n",
    "\n",
    "    df['MaxQ']= results.MaxQ.tolist()\n",
    "    #df['idxmaxQ'] = df_MaxQ.T.idxmax()\n",
    "\n",
    "    Qmax = df['MaxQ']\n",
    "    Ks   = conds.ManningN ** -1\n",
    "    i    = df.Pendenza\n",
    "\n",
    "    TetaOpt = theta(.8)\n",
    "\n",
    "    df['Dopt'] =  b * ( 2 ** (13/3) * Qmax / Ks / (i ** .5) *   \\\n",
    "                  (1 - math.sin(TetaOpt) / TetaOpt) ** (-2/3) * \\\n",
    "                  (TetaOpt - math.sin(TetaOpt)) ** -1 ) ** (3/8)\n",
    "\n",
    "    df['Diametro'] = df.Dopt.apply(ceil2list, lst = DiametriCommericali)\n",
    "    \n",
    "    df.to_csv('./swmm/iter' + str(iteration) + '/'+ baseline.inp.name + '_Condotte.csv')\n",
    "    \n",
    "    dfConds = pd.DataFrame()\n",
    "    dfConds['Shape'] = conds.Shape\n",
    "    dfConds['Geom1'] = df.Diametro\n",
    "    dfConds['Geom2'] = conds.Geom2\n",
    "    dfConds['Geom3'] = conds.Geom3\n",
    "    dfConds['Geom4'] = conds.Geom4\n",
    "    dfConds['Barrels'] = conds.Barrels\n",
    "\n",
    "    # Creo nuovo file di progetto con le nuove dimensioni per l'iterazione successiva\n",
    "    \n",
    "    inp2write = os.path.join('./swmm/iter' + str(iteration + 1) + '/'+ \\\n",
    "                                   baseline.inp.name + '.inp')\n",
    "    \n",
    "    shutil.copyfile(inp2verify, inp2write)\n",
    "    replace_inp_section(inp2write, '[XSECTIONS]', dfConds)\n",
    "    \n",
    "    df.to_csv('./swmm/iter' + str(iteration) + '/'+ baseline.inp.name + '_CondotteNuove.csv')\n",
    "    \n",
    "    # Quante linee sono cambiate nel file inp?\n",
    "    diff = ! diff {inp2verify} {inp2write} | wc -l\n",
    "    \n",
    "    diff = int(diff[0]) / 2\n",
    "    \n",
    "    print('Numero approssimativo condotte cambiate ~' + str(diff))\n",
    "    \n",
    "    if diff == 0:\n",
    "        print('i file ' + \\\n",
    "             str(inp2verify) + \\\n",
    "             ' e ' + \\\n",
    "             str(inp2write) + \\\n",
    "             ' sono uguali!')\n",
    "        break\n",
    "    \n",
    "    inp2read = inp2write"
   ]
  },
  {
   "cell_type": "code",
   "execution_count": null,
   "metadata": {},
   "outputs": [],
   "source": [
    "Model = swmmio.Model('./swmm/iter3/MaysWenzel.inp')\n",
    "CONDS = Model.conduits()\n",
    "NODES = Model.nodes()"
   ]
  },
  {
   "cell_type": "code",
   "execution_count": null,
   "metadata": {},
   "outputs": [],
   "source": [
    "Cost = (CONDS.Geom1.apply(Cp, H = 2.43) * CONDS.Length).sum() + NODES.MaxDepth.apply(Cm).sum()\n",
    "print(Cost)"
   ]
  },
  {
   "cell_type": "code",
   "execution_count": null,
   "metadata": {},
   "outputs": [],
   "source": [
    "CONDS.T"
   ]
  },
  {
   "cell_type": "code",
   "execution_count": null,
   "metadata": {},
   "outputs": [],
   "source": [
    "results = swmmio.create_dataframeRPT(inp2verify[:-4] + '.rpt')"
   ]
  },
  {
   "cell_type": "code",
   "execution_count": null,
   "metadata": {},
   "outputs": [],
   "source": [
    "results"
   ]
  },
  {
   "cell_type": "code",
   "execution_count": null,
   "metadata": {},
   "outputs": [],
   "source": []
  },
  {
   "cell_type": "code",
   "execution_count": null,
   "metadata": {},
   "outputs": [],
   "source": [
    "AAA.rpt\n"
   ]
  },
  {
   "cell_type": "code",
   "execution_count": null,
   "metadata": {},
   "outputs": [],
   "source": [
    "os.chdir('swmm/iter2/')"
   ]
  },
  {
   "cell_type": "code",
   "execution_count": null,
   "metadata": {},
   "outputs": [],
   "source": []
  }
 ],
 "metadata": {
  "kernelspec": {
   "display_name": "Python 3",
   "language": "python",
   "name": "python3"
  },
  "language_info": {
   "codemirror_mode": {
    "name": "ipython",
    "version": 3
   },
   "file_extension": ".py",
   "mimetype": "text/x-python",
   "name": "python",
   "nbconvert_exporter": "python",
   "pygments_lexer": "ipython3",
   "version": "3.7.4"
  }
 },
 "nbformat": 4,
 "nbformat_minor": 4
}
