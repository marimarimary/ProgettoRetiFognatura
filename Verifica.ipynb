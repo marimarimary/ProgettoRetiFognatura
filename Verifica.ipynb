{
 "cells": [
  {
   "cell_type": "code",
   "execution_count": null,
   "metadata": {},
   "outputs": [],
   "source": [
    "import os, shutil            #Operating System\n",
    "#from pyswmm import Simulation, raingages, Nodes, SystemStats, Links\n",
    "import pandas as pd\n",
    "from swmmio.utils.modify_model import replace_inp_section\n",
    "from swmmio import create_dataframeINP\n",
    "import swmmio\n",
    "from swmmio.graphics import swmm_graphics as sg\n",
    "import math\n",
    "import numpy as np\n",
    "import datetime as DT\n",
    "from functions import *"
   ]
  },
  {
   "cell_type": "code",
   "execution_count": null,
   "metadata": {},
   "outputs": [],
   "source": [
    "# Richiama il solutore SWMM5\n",
    "def swmm5solver (inpfile):\n",
    "    if os.path.isfile(inpfile[:-4] + '.rpt'):\n",
    "        print('Analisi non eseguita: ' + inpfile[:-4] + '.rpt' + ' esiste già')\n",
    "        return\n",
    "    \n",
    "    print('Eeguo l\\'analisi di ' + inpfile)\n",
    "    inpfile = inpfile[:-4] # Nome file senza estensione\n",
    "    \n",
    "    if os.sys.platform == 'linux':\n",
    "        swmmexepath = 'swmm51' ## Per windows bisogna inserire il percorso di swmm5.exe\n",
    "        ! {swmmexepath} \"{inpfile}.inp\" \"{inpfile}.rpt\" \"{inpfile}.out\" > /dev/null\n",
    "#        ! {swmmexepath} \"{inpfile}.inp\" \"{inpfile}.rpt\"  > /dev/null 2> /dev/null #\n",
    "        ! rm \"{inpfile}.out\" # i file out occupano molto  sppazio\n",
    "        print('Creato file di report ' + inpfile + '.rpt')\n",
    "    elif os.sys.platform == 'windows':\n",
    "        #  bisogna aggiungere il percorso di swmm5.exe alla PATH di windows:\n",
    "        #  https://www.wikihow.com/Run-a-Program-on-Command-Prompt [Metodo2]\n",
    "        swmmexepath = 'C:\\Program Files (x86)\\EPA SWMM 5.1.013\\swmm5.exe'\n",
    "        ! {swmmexepath} \"{inpfile}.inp\" \"{inpfile}.rpt\" \"{inpfile}.out\"\n",
    "        ! del \"{inpfile}.out\" # i file out occupano molto  sppazio\n",
    "        print('Creato file di report ' + inpfile + '.rpt')\n",
    "    else: \n",
    "        print('swmm5solver: Sistema operativo non supportato')\n"
   ]
  },
  {
   "cell_type": "code",
   "execution_count": null,
   "metadata": {
    "scrolled": true
   },
   "outputs": [],
   "source": [
    "if os.getcwd() != '/home/fanda/Dropbox/doc/trento/Tesi/swmmio':\n",
    "    os.chdir(\"./swmmio\")\n",
    "#os.listdir()\n",
    "\n",
    "file = ! zenity --file-selection  --separator=, --file-filter=*.csv # solo su linux\n",
    "file = file[0]\n",
    "file\n",
    "\n",
    "NewDiameters = pd.read_csv(file)\n",
    "NewDiameters = NewDiameters.rename(columns={'0' : 'Name','DiametriNuovi': 'Geom1'})\n",
    "NewDiameters = NewDiameters.set_index('Name')\n"
   ]
  },
  {
   "cell_type": "code",
   "execution_count": null,
   "metadata": {
    "scrolled": true
   },
   "outputs": [],
   "source": [
    "# Preambolo\n",
    "\n",
    "BaseModel = swmmio.Model(r'../inp_file/rovereto_mod.inp')\n",
    "\n",
    "swmmio.Model.subcatchments\n",
    "\n",
    "# Crea i dataframe con le informazioni dell'inpfile originale\n",
    "## RainGages\n",
    "GAGES = create_dataframeINP(BaseModel.inp.path,'[RAINGAGES]')\n",
    "\n",
    "## TimeSeries\n",
    "TIMESERIES = create_dataframeINP(BaseModel.inp.path,'[TIMESERIES]')\n",
    "TIMESERIES = pd.DataFrame( {'[TIMESERIES]' : TIMESERIES['[TIMESERIES]'].unique()} ) # Elimino i doppi\n",
    "TIMESERIES = pd.DataFrame(TIMESERIES['[TIMESERIES]'].str.split().tolist(),\n",
    "                          columns=['Name', 'Date', 'Time'],\n",
    "                         )\n",
    "TIMESERIES = TIMESERIES.set_index('Name')\n",
    "\n",
    "## Nodi Dividers\n",
    "DIVIDERS = create_dataframeINP(BaseModel.inp.path,'[DIVIDERS]')\n",
    "DIVIDERS = pd.DataFrame(DIVIDERS['[DIVIDERS]'].str.split().tolist(), \n",
    "                        columns = ['Name','Elevation', 'DivertedLink', \n",
    "                                   'Type', 'CutoffFlow','MaxDepth', \n",
    "                                   'P1', 'P2', 'P3'], \n",
    "                                    )\n",
    "DIVIDERS = DIVIDERS.set_index('Name')\n",
    "\n",
    "NODES = BaseModel.nodes()\n",
    "SUBCATCHMENTS = BaseModel.subcatchments()\n",
    "CONDS = BaseModel.conduits()\n",
    "\n",
    "# Definizione dei diametri commericiali\n",
    "# https://www.oppo.it/tabelle/diametri_interni_tubi.htm#fibrocemento\n",
    "DiametriCommericali = [.060,.080,.100,.125,\n",
    "                       .150,.170,.200,.225,\n",
    "                       .250,.300,.350,.400,\n",
    "                       .450,.500,.600,.700,\n",
    "                       .800,.900,1.00, 1.1,\n",
    "                        1.2,1.3,1.4,1.5,1.6]\n",
    "\n"
   ]
  },
  {
   "cell_type": "code",
   "execution_count": null,
   "metadata": {
    "scrolled": true
   },
   "outputs": [],
   "source": [
    "inpfilepath = BaseModel.inp.path\n",
    "\n",
    "\n",
    "for iteration in [1,2]: # 6 iterazioni\n",
    "    \n",
    "    print('\\nIterazione N: ' + str(iteration) + '\\n')\n",
    "    \n",
    "    try: \n",
    "        os.mkdir('../swmmio/iter' + str(iteration) )\n",
    "    except FileExistsError:\n",
    "        pass\n",
    "    \n",
    "    # Inizializzo dataframe con i risultati delle analisi\n",
    "    df_MaxQ = pd.DataFrame()\n",
    "    df_MaxHr = pd.DataFrame()\n",
    "    df_MaxDay = pd.DataFrame()\n",
    "    df_MaxV = pd.DataFrame()\n",
    "\n",
    "    # Verifica della Rete\n",
    "    ## Per TR 10 Anni\n",
    "    for timeserie in TIMESERIES[TIMESERIES.index.str.contains('TR10_')].index: \n",
    "    #for timeserie in TIMESERIES.index:\n",
    "        GAGES.DataSourceName = timeserie\n",
    "        newfilepath = os.path.join('../swmmio/iter' + str(iteration) + '/'+ \\\n",
    "                                   BaseModel.inp.name + '_' + timeserie  + '.inp')\n",
    "\n",
    "        newfilebase = newfilepath[:-4] # Nome file senza estensione\n",
    "        print(newfilepath)\n",
    "\n",
    "        # Creo nuovo inp file con un con un diversa timeseries in RAINGAGE\n",
    "        shutil.copyfile(inpfilepath, newfilepath)\n",
    "        replace_inp_section(newfilepath, '[RAINGAGES]', GAGES)\n",
    "\n",
    "        # ESEGUO L'ANALISI Con SWMM5\n",
    "        swmm5solver(newfilepath)\n",
    "        \n",
    "        mymodel = swmmio.Model(newfilepath)\n",
    "        nodes = NODES\n",
    "        conds = mymodel.conduits()\n",
    "\n",
    "        # Plotto il riempimento delle Condotte e dei Nodi\n",
    "        print('plot del grafico ', newfilebase + '_riempimento.png')\n",
    "        plotModel(inpfilepath = newfilepath, \n",
    "                  title = timeserie, \n",
    "                  annotation = 'Percentuale di riempimento nelle condotte',\n",
    "                  outfile = newfilebase + '_riempimento.png',\n",
    "                  #Property_nodes = 'MaxNodeDepthReported',\n",
    "                  Property_nodes = '',\n",
    "                  Property_conds = 'MaxDPerc',\n",
    "                 )\n",
    "        \n",
    "        # inserisco i risultati delle analisi nei dataframe risultati\n",
    "        df_MaxQ[str(timeserie)] = conds.MaxQ\n",
    "        df_MaxHr[str(timeserie)] = conds.MaxHr\n",
    "        df_MaxDay[str(timeserie)] = conds.MaxDay\n",
    "        df_MaxV[str(timeserie)] = conds.MaxV\n",
    "\n",
    "    df = pd.DataFrame()\n",
    "    \n",
    "    dfConds = pd.DataFrame()\n",
    "    dfConds['Shape'] = conds.Shape\n",
    "    dfConds['Geom1'] = NewDiameters.Geom1.tolist()\n",
    "    dfConds['Geom2'] = conds.Geom2\n",
    "    dfConds['Geom3'] = conds.Geom3\n",
    "    dfConds['Geom4'] = conds.Geom4\n",
    "    dfConds['Barrels'] = conds.Barrels\n",
    "    \n",
    "    print(dfConds)\n",
    "\n",
    "    # Creo nuovo file di progetto con le nuove dimensioni\n",
    "    \n",
    "    newinpfilepath = BaseModel.inp.path[:-4] + '_iter' + str(iteration) + '.inp'\n",
    "    \n",
    "    shutil.copyfile(inpfilepath, newinpfilepath)\n",
    "    replace_inp_section(newinpfilepath, '[XSECTIONS]', dfConds)\n",
    "\n",
    "    # Plot della Dimensione delle condotte\n",
    "    plotGeomNetwork(newinpfilepath)\n",
    "    \n",
    "    # Quante linee sono cambiate nel file inp?\n",
    "    diff = ! diff {inpfilepath} {newinpfilepath} | wc -l\n",
    "    \n",
    "    print('Numero approssimativo condotte cambiate ~' + str(diff))\n",
    "    \n",
    "    if diff == 0:\n",
    "        print('i file ' + \\\n",
    "             str(inpfilepath) + \\\n",
    "             ' e ' + \\\n",
    "             str(newinpfilepath) + \\\n",
    "             ' sono uguali!')\n",
    "        break\n",
    "    \n",
    "    inpfilepath = newinpfilepath\n"
   ]
  },
  {
   "cell_type": "code",
   "execution_count": null,
   "metadata": {},
   "outputs": [],
   "source": [
    "C_new = (conds.Geom1.apply(Cp, H = 4) * conds.Length)[CONDS.Length < 399].sum() + NODES.MaxDepth.apply(Cm).sum()\n",
    "C_old = (CONDS.Geom1.apply(Cp, H = 4) * CONDS.Length)[CONDS.Length < 399].sum()+ NODES.MaxDepth.apply(Cm).sum()\n",
    "\n",
    "print('costo per la nuova rete =', C_new)\n",
    "print('costo per la vecchia rete =', C_old)"
   ]
  },
  {
   "cell_type": "code",
   "execution_count": null,
   "metadata": {},
   "outputs": [],
   "source": [
    "CONDS"
   ]
  },
  {
   "cell_type": "code",
   "execution_count": null,
   "metadata": {},
   "outputs": [],
   "source": [
    "NODES.InvertElev.min()"
   ]
  },
  {
   "cell_type": "code",
   "execution_count": null,
   "metadata": {},
   "outputs": [],
   "source": [
    "NODES.InvertElev.max()"
   ]
  },
  {
   "cell_type": "code",
   "execution_count": null,
   "metadata": {},
   "outputs": [],
   "source": [
    "SUBCATCHMENTS"
   ]
  },
  {
   "cell_type": "code",
   "execution_count": null,
   "metadata": {},
   "outputs": [],
   "source": []
  }
 ],
 "metadata": {
  "kernelspec": {
   "display_name": "Python 3",
   "language": "python",
   "name": "python3"
  },
  "language_info": {
   "codemirror_mode": {
    "name": "ipython",
    "version": 3
   },
   "file_extension": ".py",
   "mimetype": "text/x-python",
   "name": "python",
   "nbconvert_exporter": "python",
   "pygments_lexer": "ipython3",
   "version": "3.7.4"
  }
 },
 "nbformat": 4,
 "nbformat_minor": 4
}
